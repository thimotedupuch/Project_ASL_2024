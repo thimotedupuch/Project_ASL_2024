{
 "cells": [
  {
   "cell_type": "code",
   "execution_count": 52,
   "metadata": {
    "vscode": {
     "languageId": "r"
    }
   },
   "outputs": [],
   "source": [
    "dataset <- read.csv(\"SMARTc.csv\", sep = \";\") # Without missing values"
   ]
  },
  {
   "cell_type": "code",
   "execution_count": 66,
   "metadata": {
    "vscode": {
     "languageId": "r"
    }
   },
   "outputs": [],
   "source": [
    "categorial_columns <- c(\n",
    "  \"EVENT\", \"SEX\", \"DIABETES\", \"SMOKING\",\n",
    "  \"alcohol\", \"CEREBRAL\", \"CARDIAC\", \"AAA\",\n",
    "  \"PERIPH\", \"albumin\", \"STENOSIS\"\n",
    ")\n",
    "dataset_categorical <- subset(dataset, select = categorial_columns)\n",
    "dataset_numerical <- subset(dataset,\n",
    "  select = setdiff(names(dataset), categorial_columns)\n",
    ")\n"
   ]
  },
  {
   "cell_type": "code",
   "execution_count": 67,
   "metadata": {
    "vscode": {
     "languageId": "r"
    }
   },
   "outputs": [
    {
     "data": {
      "text/html": [
       "<table class=\"dataframe\">\n",
       "<caption>A data.frame: 20 × 9</caption>\n",
       "<thead>\n",
       "\t<tr><th scope=col>Variable</th><th scope=col>N</th><th scope=col>Mean</th><th scope=col>Std. Dev.</th><th scope=col>Min</th><th scope=col>Pctl. 25</th><th scope=col>Pctl. 50</th><th scope=col>Pctl. 75</th><th scope=col>Max</th></tr>\n",
       "\t<tr><th scope=col>&lt;chr&gt;</th><th scope=col>&lt;chr&gt;</th><th scope=col>&lt;chr&gt;</th><th scope=col>&lt;chr&gt;</th><th scope=col>&lt;chr&gt;</th><th scope=col>&lt;chr&gt;</th><th scope=col>&lt;chr&gt;</th><th scope=col>&lt;chr&gt;</th><th scope=col>&lt;chr&gt;</th></tr>\n",
       "</thead>\n",
       "<tbody>\n",
       "\t<tr><td>TEVENT  </td><td>3873</td><td>1370</td><td>942  </td><td>0.1 </td><td>555 </td><td>1213</td><td>2165</td><td>3466</td></tr>\n",
       "\t<tr><td>AGE     </td><td>3873</td><td>60  </td><td>11   </td><td>19  </td><td>52  </td><td>60  </td><td>68  </td><td>82  </td></tr>\n",
       "\t<tr><td>SYSTBP  </td><td>3873</td><td>140 </td><td>20   </td><td>96  </td><td>126 </td><td>138 </td><td>153 </td><td>216 </td></tr>\n",
       "\t<tr><td>DIASTBP </td><td>3873</td><td>80  </td><td>9.9  </td><td>46  </td><td>73  </td><td>79  </td><td>86  </td><td>127 </td></tr>\n",
       "\t<tr><td>SYSTH   </td><td>3873</td><td>143 </td><td>22   </td><td>79  </td><td>127 </td><td>140 </td><td>156 </td><td>244 </td></tr>\n",
       "\t<tr><td>DIASTH  </td><td>3873</td><td>82  </td><td>12   </td><td>45  </td><td>74  </td><td>81  </td><td>89  </td><td>136 </td></tr>\n",
       "\t<tr><td>LENGTH  </td><td>3873</td><td>1.7 </td><td>0.087</td><td>1.5 </td><td>1.7 </td><td>1.8 </td><td>1.8 </td><td>1.9 </td></tr>\n",
       "\t<tr><td>WEIGHT  </td><td>3873</td><td>81  </td><td>14   </td><td>50  </td><td>72  </td><td>80  </td><td>89  </td><td>124 </td></tr>\n",
       "\t<tr><td>BMI     </td><td>3873</td><td>27  </td><td>3.8  </td><td>19  </td><td>24  </td><td>26  </td><td>29  </td><td>40  </td></tr>\n",
       "\t<tr><td>CHOL    </td><td>3873</td><td>5.2 </td><td>1.1  </td><td>2.8 </td><td>4.4 </td><td>5.1 </td><td>5.9 </td><td>9.4 </td></tr>\n",
       "\t<tr><td>HDL     </td><td>3873</td><td>1.2 </td><td>0.37 </td><td>0.58</td><td>0.96</td><td>1.2 </td><td>1.4 </td><td>2.5 </td></tr>\n",
       "\t<tr><td>LDL     </td><td>3873</td><td>3.1 </td><td>1    </td><td>1.1 </td><td>2.4 </td><td>3   </td><td>3.8 </td><td>6.6 </td></tr>\n",
       "\t<tr><td>TRIG    </td><td>3873</td><td>1.9 </td><td>1.2  </td><td>0.56</td><td>1.1 </td><td>1.5 </td><td>2.2 </td><td>9   </td></tr>\n",
       "\t<tr><td>HOMOC   </td><td>3873</td><td>14  </td><td>5.4  </td><td>6.1 </td><td>10  </td><td>13  </td><td>16  </td><td>38  </td></tr>\n",
       "\t<tr><td>GLUT    </td><td>3873</td><td>6.3 </td><td>2    </td><td>4.3 </td><td>5.3 </td><td>5.7 </td><td>6.5 </td><td>19  </td></tr>\n",
       "\t<tr><td>CREAT   </td><td>3873</td><td>98  </td><td>64   </td><td>54  </td><td>78  </td><td>89  </td><td>101 </td><td>825 </td></tr>\n",
       "\t<tr><td>IMT     </td><td>3873</td><td>0.94</td><td>0.27 </td><td>0.47</td><td>0.75</td><td>0.88</td><td>1.1 </td><td>1.8 </td></tr>\n",
       "\t<tr><td>packyrs </td><td>3873</td><td>23  </td><td>20   </td><td>0   </td><td>5.9 </td><td>20  </td><td>34  </td><td>120 </td></tr>\n",
       "\t<tr><td>HISTCARD</td><td>3873</td><td>1.2 </td><td>0.47 </td><td>1   </td><td>1   </td><td>1   </td><td>1   </td><td>4   </td></tr>\n",
       "\t<tr><td>HISTCAR2</td><td>3873</td><td>1.3 </td><td>0.65 </td><td>1   </td><td>1   </td><td>1   </td><td>1   </td><td>5   </td></tr>\n",
       "</tbody>\n",
       "</table>\n"
      ],
      "text/latex": [
       "A data.frame: 20 × 9\n",
       "\\begin{tabular}{lllllllll}\n",
       " Variable & N & Mean & Std. Dev. & Min & Pctl. 25 & Pctl. 50 & Pctl. 75 & Max\\\\\n",
       " <chr> & <chr> & <chr> & <chr> & <chr> & <chr> & <chr> & <chr> & <chr>\\\\\n",
       "\\hline\n",
       "\t TEVENT   & 3873 & 1370 & 942   & 0.1  & 555  & 1213 & 2165 & 3466\\\\\n",
       "\t AGE      & 3873 & 60   & 11    & 19   & 52   & 60   & 68   & 82  \\\\\n",
       "\t SYSTBP   & 3873 & 140  & 20    & 96   & 126  & 138  & 153  & 216 \\\\\n",
       "\t DIASTBP  & 3873 & 80   & 9.9   & 46   & 73   & 79   & 86   & 127 \\\\\n",
       "\t SYSTH    & 3873 & 143  & 22    & 79   & 127  & 140  & 156  & 244 \\\\\n",
       "\t DIASTH   & 3873 & 82   & 12    & 45   & 74   & 81   & 89   & 136 \\\\\n",
       "\t LENGTH   & 3873 & 1.7  & 0.087 & 1.5  & 1.7  & 1.8  & 1.8  & 1.9 \\\\\n",
       "\t WEIGHT   & 3873 & 81   & 14    & 50   & 72   & 80   & 89   & 124 \\\\\n",
       "\t BMI      & 3873 & 27   & 3.8   & 19   & 24   & 26   & 29   & 40  \\\\\n",
       "\t CHOL     & 3873 & 5.2  & 1.1   & 2.8  & 4.4  & 5.1  & 5.9  & 9.4 \\\\\n",
       "\t HDL      & 3873 & 1.2  & 0.37  & 0.58 & 0.96 & 1.2  & 1.4  & 2.5 \\\\\n",
       "\t LDL      & 3873 & 3.1  & 1     & 1.1  & 2.4  & 3    & 3.8  & 6.6 \\\\\n",
       "\t TRIG     & 3873 & 1.9  & 1.2   & 0.56 & 1.1  & 1.5  & 2.2  & 9   \\\\\n",
       "\t HOMOC    & 3873 & 14   & 5.4   & 6.1  & 10   & 13   & 16   & 38  \\\\\n",
       "\t GLUT     & 3873 & 6.3  & 2     & 4.3  & 5.3  & 5.7  & 6.5  & 19  \\\\\n",
       "\t CREAT    & 3873 & 98   & 64    & 54   & 78   & 89   & 101  & 825 \\\\\n",
       "\t IMT      & 3873 & 0.94 & 0.27  & 0.47 & 0.75 & 0.88 & 1.1  & 1.8 \\\\\n",
       "\t packyrs  & 3873 & 23   & 20    & 0    & 5.9  & 20   & 34   & 120 \\\\\n",
       "\t HISTCARD & 3873 & 1.2  & 0.47  & 1    & 1    & 1    & 1    & 4   \\\\\n",
       "\t HISTCAR2 & 3873 & 1.3  & 0.65  & 1    & 1    & 1    & 1    & 5   \\\\\n",
       "\\end{tabular}\n"
      ],
      "text/markdown": [
       "\n",
       "A data.frame: 20 × 9\n",
       "\n",
       "| Variable &lt;chr&gt; | N &lt;chr&gt; | Mean &lt;chr&gt; | Std. Dev. &lt;chr&gt; | Min &lt;chr&gt; | Pctl. 25 &lt;chr&gt; | Pctl. 50 &lt;chr&gt; | Pctl. 75 &lt;chr&gt; | Max &lt;chr&gt; |\n",
       "|---|---|---|---|---|---|---|---|---|\n",
       "| TEVENT   | 3873 | 1370 | 942   | 0.1  | 555  | 1213 | 2165 | 3466 |\n",
       "| AGE      | 3873 | 60   | 11    | 19   | 52   | 60   | 68   | 82   |\n",
       "| SYSTBP   | 3873 | 140  | 20    | 96   | 126  | 138  | 153  | 216  |\n",
       "| DIASTBP  | 3873 | 80   | 9.9   | 46   | 73   | 79   | 86   | 127  |\n",
       "| SYSTH    | 3873 | 143  | 22    | 79   | 127  | 140  | 156  | 244  |\n",
       "| DIASTH   | 3873 | 82   | 12    | 45   | 74   | 81   | 89   | 136  |\n",
       "| LENGTH   | 3873 | 1.7  | 0.087 | 1.5  | 1.7  | 1.8  | 1.8  | 1.9  |\n",
       "| WEIGHT   | 3873 | 81   | 14    | 50   | 72   | 80   | 89   | 124  |\n",
       "| BMI      | 3873 | 27   | 3.8   | 19   | 24   | 26   | 29   | 40   |\n",
       "| CHOL     | 3873 | 5.2  | 1.1   | 2.8  | 4.4  | 5.1  | 5.9  | 9.4  |\n",
       "| HDL      | 3873 | 1.2  | 0.37  | 0.58 | 0.96 | 1.2  | 1.4  | 2.5  |\n",
       "| LDL      | 3873 | 3.1  | 1     | 1.1  | 2.4  | 3    | 3.8  | 6.6  |\n",
       "| TRIG     | 3873 | 1.9  | 1.2   | 0.56 | 1.1  | 1.5  | 2.2  | 9    |\n",
       "| HOMOC    | 3873 | 14   | 5.4   | 6.1  | 10   | 13   | 16   | 38   |\n",
       "| GLUT     | 3873 | 6.3  | 2     | 4.3  | 5.3  | 5.7  | 6.5  | 19   |\n",
       "| CREAT    | 3873 | 98   | 64    | 54   | 78   | 89   | 101  | 825  |\n",
       "| IMT      | 3873 | 0.94 | 0.27  | 0.47 | 0.75 | 0.88 | 1.1  | 1.8  |\n",
       "| packyrs  | 3873 | 23   | 20    | 0    | 5.9  | 20   | 34   | 120  |\n",
       "| HISTCARD | 3873 | 1.2  | 0.47  | 1    | 1    | 1    | 1    | 4    |\n",
       "| HISTCAR2 | 3873 | 1.3  | 0.65  | 1    | 1    | 1    | 1    | 5    |\n",
       "\n"
      ],
      "text/plain": [
       "   Variable N    Mean Std. Dev. Min  Pctl. 25 Pctl. 50 Pctl. 75 Max \n",
       "1  TEVENT   3873 1370 942       0.1  555      1213     2165     3466\n",
       "2  AGE      3873 60   11        19   52       60       68       82  \n",
       "3  SYSTBP   3873 140  20        96   126      138      153      216 \n",
       "4  DIASTBP  3873 80   9.9       46   73       79       86       127 \n",
       "5  SYSTH    3873 143  22        79   127      140      156      244 \n",
       "6  DIASTH   3873 82   12        45   74       81       89       136 \n",
       "7  LENGTH   3873 1.7  0.087     1.5  1.7      1.8      1.8      1.9 \n",
       "8  WEIGHT   3873 81   14        50   72       80       89       124 \n",
       "9  BMI      3873 27   3.8       19   24       26       29       40  \n",
       "10 CHOL     3873 5.2  1.1       2.8  4.4      5.1      5.9      9.4 \n",
       "11 HDL      3873 1.2  0.37      0.58 0.96     1.2      1.4      2.5 \n",
       "12 LDL      3873 3.1  1         1.1  2.4      3        3.8      6.6 \n",
       "13 TRIG     3873 1.9  1.2       0.56 1.1      1.5      2.2      9   \n",
       "14 HOMOC    3873 14   5.4       6.1  10       13       16       38  \n",
       "15 GLUT     3873 6.3  2         4.3  5.3      5.7      6.5      19  \n",
       "16 CREAT    3873 98   64        54   78       89       101      825 \n",
       "17 IMT      3873 0.94 0.27      0.47 0.75     0.88     1.1      1.8 \n",
       "18 packyrs  3873 23   20        0    5.9      20       34       120 \n",
       "19 HISTCARD 3873 1.2  0.47      1    1        1        1        4   \n",
       "20 HISTCAR2 3873 1.3  0.65      1    1        1        1        5   "
      ]
     },
     "metadata": {},
     "output_type": "display_data"
    }
   ],
   "source": [
    "library(vtable)\n",
    "sumtable(dataset_numerical, out = \"return\", add.median = TRUE)"
   ]
  },
  {
   "cell_type": "code",
   "execution_count": 57,
   "metadata": {
    "vscode": {
     "languageId": "r"
    }
   },
   "outputs": [
    {
     "data": {
      "text/plain": [
       "\n",
       "      0       1 \n",
       "88.1229 11.8771 "
      ]
     },
     "metadata": {},
     "output_type": "display_data"
    }
   ],
   "source": [
    "table(dataset_categorical$EVENT) * 100 / nrow(dataset_categorical)"
   ]
  },
  {
   "cell_type": "code",
   "execution_count": 58,
   "metadata": {
    "vscode": {
     "languageId": "r"
    }
   },
   "outputs": [],
   "source": [
    "percentage_summary <- lapply(dataset_categorical, function(column) {\n",
    "  prop.table(table(column)) * 100\n",
    "})"
   ]
  },
  {
   "cell_type": "code",
   "execution_count": 65,
   "metadata": {
    "vscode": {
     "languageId": "r"
    }
   },
   "outputs": [
    {
     "data": {
      "text/plain": [
       "$EVENT\n",
       "column\n",
       "      0       1 \n",
       "88.1229 11.8771 \n",
       "\n",
       "$SEX\n",
       "column\n",
       "      1       2 \n",
       "74.7999 25.2001 \n",
       "\n",
       "$DIABETES\n",
       "column\n",
       "       0        1 \n",
       "77.92409 22.07591 \n",
       "\n",
       "$SMOKING\n",
       "column\n",
       "       1        2        3 \n",
       "17.99639 70.51381 11.48980 \n",
       "\n",
       "$alcohol\n",
       "column\n",
       "       1        2        3 \n",
       "19.64885 10.63775 69.71340 \n",
       "\n",
       "$CEREBRAL\n",
       "column\n",
       "       0        1 \n",
       "70.38471 29.61529 \n"
      ]
     },
     "metadata": {},
     "output_type": "display_data"
    }
   ],
   "source": [
    "head(percentage_summary)"
   ]
  },
  {
   "cell_type": "code",
   "execution_count": 61,
   "metadata": {
    "vscode": {
     "languageId": "r"
    }
   },
   "outputs": [],
   "source": [
    "percentage_df <- data.frame()\n",
    "\n",
    "# Loop through each column in the dataset\n",
    "for (col in names(dataset_categorical)) {\n",
    "  # Get the table of counts for each category\n",
    "  counts <- table(dataset_categorical[[col]])\n",
    "  \n",
    "  # Calculate the percentage for each category\n",
    "  percentages <- counts * 100 / nrow(dataset_categorical)\n",
    "  \n",
    "  # Convert the percentages into a dataframe\n",
    "  temp_df <- data.frame(\n",
    "    Variable = col,\n",
    "    Category = names(percentages),\n",
    "    Percentage = as.vector(round(percentages, 2))\n",
    "  )\n",
    "  \n",
    "  # Bind the results for this column to the final dataframe\n",
    "  percentage_df <- rbind(percentage_df, temp_df)\n",
    "}"
   ]
  },
  {
   "cell_type": "code",
   "execution_count": 63,
   "metadata": {
    "vscode": {
     "languageId": "r"
    }
   },
   "outputs": [
    {
     "data": {
      "text/html": [
       "'integer'"
      ],
      "text/latex": [
       "'integer'"
      ],
      "text/markdown": [
       "'integer'"
      ],
      "text/plain": [
       "[1] \"integer\""
      ]
     },
     "metadata": {},
     "output_type": "display_data"
    }
   ],
   "source": [
    "typeof(table(dataset_categorical$EVENT))"
   ]
  },
  {
   "cell_type": "code",
   "execution_count": 64,
   "metadata": {
    "vscode": {
     "languageId": "r"
    }
   },
   "outputs": [
    {
     "data": {
      "text/plain": [
       "\n",
       "   0    1 \n",
       "3413  460 "
      ]
     },
     "metadata": {},
     "output_type": "display_data"
    }
   ],
   "source": [
    "table(dataset_categorical$EVENT)"
   ]
  }
 ],
 "metadata": {
  "kernelspec": {
   "display_name": "R",
   "language": "R",
   "name": "ir"
  },
  "language_info": {
   "codemirror_mode": "r",
   "file_extension": ".r",
   "mimetype": "text/x-r-source",
   "name": "R",
   "pygments_lexer": "r",
   "version": "4.4.1"
  }
 },
 "nbformat": 4,
 "nbformat_minor": 2
}
